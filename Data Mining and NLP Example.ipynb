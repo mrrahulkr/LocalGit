{
 "cells": [
  {
   "cell_type": "code",
   "execution_count": 4,
   "metadata": {},
   "outputs": [],
   "source": [
    "import os"
   ]
  },
  {
   "cell_type": "code",
   "execution_count": 5,
   "metadata": {},
   "outputs": [],
   "source": [
    "import nltk"
   ]
  },
  {
   "cell_type": "code",
   "execution_count": 6,
   "metadata": {},
   "outputs": [],
   "source": [
    "import nltk.corpus"
   ]
  },
  {
   "cell_type": "code",
   "execution_count": 12,
   "metadata": {},
   "outputs": [],
   "source": [
    "ga = \"\"\"This chapter examines the organization and structure of gangs as well as the group processes within gangs. Street gangs are a form of criminal association that have been the topic of scholarly attention for nearly a century. The chapter compares street gangs to other organized crime groups, including transnational organized crime, drug smuggling networks, human trafficking and smuggling operations, and terrorist groups. It focuses on issues that make gangs distinctive, and explains the shared characteristics with these other groups. The chapter examines the evolution of gangs, and also explains the structural, cultural, and behavioral aspects of gang organization. Crimes committed by gang members and those committed by members of other organized crime groups are examined. The chapter then analyzes the extent to which gangs have relationships with other organized crime groups. It concludes with a discussion on the future of gangs as a form of criminal organization.\"\"\""
   ]
  },
  {
   "cell_type": "code",
   "execution_count": 13,
   "metadata": {},
   "outputs": [
    {
     "data": {
      "text/plain": [
       "str"
      ]
     },
     "execution_count": 13,
     "metadata": {},
     "output_type": "execute_result"
    }
   ],
   "source": [
    "type(ga)"
   ]
  },
  {
   "cell_type": "code",
   "execution_count": 14,
   "metadata": {},
   "outputs": [
    {
     "data": {
      "text/plain": [
       "978"
      ]
     },
     "execution_count": 14,
     "metadata": {},
     "output_type": "execute_result"
    }
   ],
   "source": [
    "len(ga)"
   ]
  },
  {
   "cell_type": "code",
   "execution_count": 20,
   "metadata": {},
   "outputs": [
    {
     "data": {
      "text/plain": [
       "'THIS CHAPTER EXAMINES THE ORGANIZATION AND STRUCTURE OF GANGS AS WELL AS THE GROUP PROCESSES WITHIN GANGS. STREET GANGS ARE A FORM OF CRIMINAL ASSOCIATION THAT HAVE BEEN THE TOPIC OF SCHOLARLY ATTENTION FOR NEARLY A CENTURY. THE CHAPTER COMPARES STREET GANGS TO OTHER ORGANIZED CRIME GROUPS, INCLUDING TRANSNATIONAL ORGANIZED CRIME, DRUG SMUGGLING NETWORKS, HUMAN TRAFFICKING AND SMUGGLING OPERATIONS, AND TERRORIST GROUPS. IT FOCUSES ON ISSUES THAT MAKE GANGS DISTINCTIVE, AND EXPLAINS THE SHARED CHARACTERISTICS WITH THESE OTHER GROUPS. THE CHAPTER EXAMINES THE EVOLUTION OF GANGS, AND ALSO EXPLAINS THE STRUCTURAL, CULTURAL, AND BEHAVIORAL ASPECTS OF GANG ORGANIZATION. CRIMES COMMITTED BY GANG MEMBERS AND THOSE COMMITTED BY MEMBERS OF OTHER ORGANIZED CRIME GROUPS ARE EXAMINED. THE CHAPTER THEN ANALYZES THE EXTENT TO WHICH GANGS HAVE RELATIONSHIPS WITH OTHER ORGANIZED CRIME GROUPS. IT CONCLUDES WITH A DISCUSSION ON THE FUTURE OF GANGS AS A FORM OF CRIMINAL ORGANIZATION.'"
      ]
     },
     "execution_count": 20,
     "metadata": {},
     "output_type": "execute_result"
    }
   ],
   "source": [
    "ga.upper()"
   ]
  },
  {
   "cell_type": "code",
   "execution_count": 21,
   "metadata": {},
   "outputs": [
    {
     "data": {
      "text/plain": [
       "'this chapter examines the organization and structure of gangs as well as the group processes within gangs. street gangs are a form of criminal association that have been the topic of scholarly attention for nearly a century. the chapter compares street gangs to other organized crime groups, including transnational organized crime, drug smuggling networks, human trafficking and smuggling operations, and terrorist groups. it focuses on issues that make gangs distinctive, and explains the shared characteristics with these other groups. the chapter examines the evolution of gangs, and also explains the structural, cultural, and behavioral aspects of gang organization. crimes committed by gang members and those committed by members of other organized crime groups are examined. the chapter then analyzes the extent to which gangs have relationships with other organized crime groups. it concludes with a discussion on the future of gangs as a form of criminal organization.'"
      ]
     },
     "execution_count": 21,
     "metadata": {},
     "output_type": "execute_result"
    }
   ],
   "source": [
    "ga.lower()"
   ]
  },
  {
   "cell_type": "code",
   "execution_count": 23,
   "metadata": {},
   "outputs": [
    {
     "ename": "AttributeError",
     "evalue": "'str' object has no attribute 'head'",
     "output_type": "error",
     "traceback": [
      "\u001b[0;31m---------------------------------------------------------------------------\u001b[0m",
      "\u001b[0;31mAttributeError\u001b[0m                            Traceback (most recent call last)",
      "\u001b[0;32m<ipython-input-23-6c304802e0be>\u001b[0m in \u001b[0;36m<module>\u001b[0;34m\u001b[0m\n\u001b[0;32m----> 1\u001b[0;31m \u001b[0mga\u001b[0m\u001b[0;34m.\u001b[0m\u001b[0mhead\u001b[0m\u001b[0;34m(\u001b[0m\u001b[0;34m)\u001b[0m\u001b[0;34m\u001b[0m\u001b[0;34m\u001b[0m\u001b[0m\n\u001b[0m",
      "\u001b[0;31mAttributeError\u001b[0m: 'str' object has no attribute 'head'"
     ]
    }
   ],
   "source": [
    "ga.head()"
   ]
  },
  {
   "cell_type": "code",
   "execution_count": null,
   "metadata": {},
   "outputs": [],
   "source": []
  }
 ],
 "metadata": {
  "kernelspec": {
   "display_name": "Python 3",
   "language": "python",
   "name": "python3"
  },
  "language_info": {
   "codemirror_mode": {
    "name": "ipython",
    "version": 3
   },
   "file_extension": ".py",
   "mimetype": "text/x-python",
   "name": "python",
   "nbconvert_exporter": "python",
   "pygments_lexer": "ipython3",
   "version": "3.7.3"
  }
 },
 "nbformat": 4,
 "nbformat_minor": 2
}
