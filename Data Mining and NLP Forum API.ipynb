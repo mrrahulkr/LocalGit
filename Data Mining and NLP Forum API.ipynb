{
 "cells": [
  {
   "cell_type": "code",
   "execution_count": 1,
   "metadata": {},
   "outputs": [],
   "source": [
    "import pandas as pd"
   ]
  },
  {
   "cell_type": "code",
   "execution_count": 2,
   "metadata": {},
   "outputs": [],
   "source": [
    "import os\n",
    "import json\n",
    "import requests\n",
    "import pandas.io.json"
   ]
  },
  {
   "cell_type": "code",
   "execution_count": 3,
   "metadata": {},
   "outputs": [],
   "source": [
    "from pandas.io.json import json_normalize"
   ]
  },
  {
   "cell_type": "code",
   "execution_count": 4,
   "metadata": {},
   "outputs": [],
   "source": [
    "url = \"https://api.weforum.org/v1/articles?page%5Bnumber%5D=2&page%5Bsize%5D=500\""
   ]
  },
  {
   "cell_type": "code",
   "execution_count": 5,
   "metadata": {},
   "outputs": [],
   "source": [
    "JSONtext = requests.get(url).json()"
   ]
  },
  {
   "cell_type": "code",
   "execution_count": 6,
   "metadata": {},
   "outputs": [],
   "source": [
    "normjson=json_normalize(JSONtext['data'])"
   ]
  },
  {
   "cell_type": "code",
   "execution_count": 7,
   "metadata": {},
   "outputs": [
    {
     "data": {
      "text/plain": [
       "Index(['attributes.api_endpoint', 'attributes.api_toplink_endpoint',\n",
       "       'attributes.author', 'attributes.author.admin_id',\n",
       "       'attributes.author.biography', 'attributes.author.created_at',\n",
       "       'attributes.author.facebook_page', 'attributes.author.first_name',\n",
       "       'attributes.author.id', 'attributes.author.image.small.url',\n",
       "       'attributes.author.image.tiny.url', 'attributes.author.image.url',\n",
       "       'attributes.author.linkedin_page',\n",
       "       'attributes.author.meta_canonical_url',\n",
       "       'attributes.author.meta_description', 'attributes.author.meta_image',\n",
       "       'attributes.author.meta_title', 'attributes.author.organisation',\n",
       "       'attributes.author.position', 'attributes.author.published_at',\n",
       "       'attributes.author.quote', 'attributes.author.regular_author',\n",
       "       'attributes.author.sf_id', 'attributes.author.slug',\n",
       "       'attributes.author.slug_history', 'attributes.author.state',\n",
       "       'attributes.author.surname', 'attributes.author.twitter_username',\n",
       "       'attributes.author.updated_at', 'attributes.author.wp_data',\n",
       "       'attributes.author.wp_data.description',\n",
       "       'attributes.author.wp_data.href', 'attributes.author.wp_data.name',\n",
       "       'attributes.author.wp_data.posts.first.href',\n",
       "       'attributes.author.wp_data.posts.found',\n",
       "       'attributes.author.wp_data.posts.last.href',\n",
       "       'attributes.author.wp_data.posts.limit',\n",
       "       'attributes.author.wp_data.posts.next',\n",
       "       'attributes.author.wp_data.posts.next.href',\n",
       "       'attributes.author.wp_data.posts.offset',\n",
       "       'attributes.author.wp_data.posts.page',\n",
       "       'attributes.author.wp_data.posts.pages',\n",
       "       'attributes.author.wp_data.posts.posts',\n",
       "       'attributes.author.wp_data.posts.previous',\n",
       "       'attributes.author.wp_data.slug', 'attributes.author.wp_id',\n",
       "       'attributes.author.wp_modified', 'attributes.author.wp_permalink',\n",
       "       'attributes.author.wp_slug', 'attributes.author.wp_synced_at',\n",
       "       'attributes.authors', 'attributes.body.data', 'attributes.channels',\n",
       "       'attributes.content_types', 'attributes.featured_or_first_topic',\n",
       "       'attributes.featured_or_first_topic.api_endpoint',\n",
       "       'attributes.featured_or_first_topic.id',\n",
       "       'attributes.featured_or_first_topic.sf_id',\n",
       "       'attributes.featured_or_first_topic.slug',\n",
       "       'attributes.featured_or_first_topic.title',\n",
       "       'attributes.featured_or_first_topic.type',\n",
       "       'attributes.image_urls.large', 'attributes.image_urls.medium',\n",
       "       'attributes.image_urls.original', 'attributes.image_urls.small',\n",
       "       'attributes.image_urls.tiny', 'attributes.origins',\n",
       "       'attributes.published_at', 'attributes.slug', 'attributes.title',\n",
       "       'attributes.updated_at', 'attributes.website_endpoint', 'id',\n",
       "       'relationships.topics.data', 'type'],\n",
       "      dtype='object')"
      ]
     },
     "execution_count": 7,
     "metadata": {},
     "output_type": "execute_result"
    }
   ],
   "source": [
    "normjson.columns"
   ]
  },
  {
   "cell_type": "code",
   "execution_count": 8,
   "metadata": {},
   "outputs": [
    {
     "data": {
      "text/plain": [
       "pandas.core.frame.DataFrame"
      ]
     },
     "execution_count": 8,
     "metadata": {},
     "output_type": "execute_result"
    }
   ],
   "source": [
    "type(normjson)"
   ]
  },
  {
   "cell_type": "code",
   "execution_count": 10,
   "metadata": {},
   "outputs": [],
   "source": [
    "MyTable=normjson[['id','attributes.featured_or_first_topic.title','attributes.author.first_name','attributes.author.surname','attributes.author.published_at','attributes.title','attributes.author.wp_data.name']]"
   ]
  },
  {
   "cell_type": "code",
   "execution_count": 11,
   "metadata": {},
   "outputs": [
    {
     "data": {
      "text/plain": [
       "500"
      ]
     },
     "execution_count": 11,
     "metadata": {},
     "output_type": "execute_result"
    }
   ],
   "source": [
    "len(normjson['attributes.author.first_name'])"
   ]
  },
  {
   "cell_type": "code",
   "execution_count": 12,
   "metadata": {},
   "outputs": [
    {
     "data": {
      "text/plain": [
       "322"
      ]
     },
     "execution_count": 12,
     "metadata": {},
     "output_type": "execute_result"
    }
   ],
   "source": [
    "len(normjson['attributes.author.first_name'].drop_duplicates())"
   ]
  },
  {
   "cell_type": "code",
   "execution_count": 13,
   "metadata": {},
   "outputs": [
    {
     "data": {
      "text/plain": [
       "count                            480\n",
       "unique                           321\n",
       "top       Thomson Reuters Foundation\n",
       "freq                              19\n",
       "Name: attributes.author.first_name, dtype: object"
      ]
     },
     "execution_count": 13,
     "metadata": {},
     "output_type": "execute_result"
    }
   ],
   "source": [
    "normjson['attributes.author.first_name'].describe()"
   ]
  },
  {
   "cell_type": "markdown",
   "metadata": {},
   "source": [
    "Thomson Reuters Foundation has written 19 post"
   ]
  },
  {
   "cell_type": "code",
   "execution_count": 15,
   "metadata": {},
   "outputs": [
    {
     "data": {
      "text/plain": [
       "500"
      ]
     },
     "execution_count": 15,
     "metadata": {},
     "output_type": "execute_result"
    }
   ],
   "source": [
    "len(normjson['attributes.author.surname'])"
   ]
  },
  {
   "cell_type": "code",
   "execution_count": 24,
   "metadata": {},
   "outputs": [
    {
     "data": {
      "text/plain": [
       "count     480\n",
       "unique    340\n",
       "top          \n",
       "freq       28\n",
       "Name: attributes.author.surname, dtype: object"
      ]
     },
     "execution_count": 24,
     "metadata": {},
     "output_type": "execute_result"
    }
   ],
   "source": [
    "normjson['attributes.author.surname'].drop_duplicates()\n",
    "normjson['attributes.author.surname'].describe()"
   ]
  },
  {
   "cell_type": "code",
   "execution_count": 17,
   "metadata": {},
   "outputs": [
    {
     "data": {
      "text/plain": [
       "0    Edmond \n",
       "1      Broom\n",
       "2     Belsie\n",
       "3        NaN\n",
       "4     Langat\n",
       "Name: attributes.author.surname, dtype: object"
      ]
     },
     "execution_count": 17,
     "metadata": {},
     "output_type": "execute_result"
    }
   ],
   "source": [
    "normjson['attributes.author.surname'].head()"
   ]
  },
  {
   "cell_type": "code",
   "execution_count": 26,
   "metadata": {},
   "outputs": [],
   "source": [
    "myText =[]\n",
    "myText.append(json_normalize(normjson['attributes.body.data'][1])['data.text'] )"
   ]
  },
  {
   "cell_type": "code",
   "execution_count": 27,
   "metadata": {},
   "outputs": [],
   "source": [
    "myText=str(myText[0])\n",
    "import re\n",
    "clean = re.compile('<.*?>')\n",
    "clean_text= re.sub(clean, '', myText)"
   ]
  },
  {
   "cell_type": "code",
   "execution_count": 28,
   "metadata": {},
   "outputs": [
    {
     "name": "stdout",
     "output_type": "stream",
     "text": [
      "0     Finland is one of the <a href=\"https://ec.e...\n",
      "1     S-market, a chain of 900 supermarkets, is t...\n",
      "2                                                   NaN\n",
      "3     During the day, S-market reduces the price ...\n",
      "4     The chain is aiming for a <a href=\"https://...\n",
      "5                                                   NaN\n",
      "6     S-market’s happy hour has proved popular, w...\n",
      "7                              Grab a bag\n",
      "8     If you don’t live in Finland, don’t despair...\n",
      "9     Too Good to Go, which works with shops, bak...\n",
      "10    UK online retailer <a href=\"https://store.a...\n",
      "11                                                  NaN\n",
      "12                          Gone to waste\n",
      "13    One-third of all food produced for human co...\n",
      "14    Consumers in Europe and North America each ...\n",
      "15    Every year, consumers in rich countries was...\n",
      "16                                                  NaN\n",
      "Name: data.text, dtype: object\n"
     ]
    }
   ],
   "source": [
    "print(clean_text)"
   ]
  },
  {
   "cell_type": "code",
   "execution_count": null,
   "metadata": {},
   "outputs": [],
   "source": []
  }
 ],
 "metadata": {
  "kernelspec": {
   "display_name": "Python 3",
   "language": "python",
   "name": "python3"
  },
  "language_info": {
   "codemirror_mode": {
    "name": "ipython",
    "version": 3
   },
   "file_extension": ".py",
   "mimetype": "text/x-python",
   "name": "python",
   "nbconvert_exporter": "python",
   "pygments_lexer": "ipython3",
   "version": "3.7.3"
  }
 },
 "nbformat": 4,
 "nbformat_minor": 2
}
