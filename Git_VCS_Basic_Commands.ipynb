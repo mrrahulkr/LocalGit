{
 "cells": [
  {
   "cell_type": "code",
   "execution_count": null,
   "metadata": {},
   "outputs": [],
   "source": [
    "# To clone a git repository to your computer\n",
    "git clone [Git repo URL]\n",
    "\n",
    "# To check status use the below command\n",
    "git status\n",
    "\n",
    "# if there are some changes in a file,\n",
    "# Git status command will tell me\n",
    "\n",
    "# to add those changes use the below command\n",
    "git add [filename]\n",
    "\n",
    "# now git status will tell me changes to be committeed\n",
    "#to commit changes to the local machine (not uploaded on github.com)\n",
    "\n",
    "git commit -m \"added filename\"\n",
    "\n",
    "#to push the file to github.com\n",
    "git push # this command takes all commited file on the local machine and pushes it online\n",
    "\n",
    "# to pull the repository status and see what's changed since last time\n",
    "git pull # this command only works when you are in the same directory\n",
    "\n",
    "# the below command adds all changes\n",
    "git add -A\n",
    "\n",
    "# to get out of the full blown message\n",
    "#[press escape buttom] +\":wq\"+[press enter buttom]"
   ]
  }
 ],
 "metadata": {
  "kernelspec": {
   "display_name": "Python 3",
   "language": "python",
   "name": "python3"
  },
  "language_info": {
   "codemirror_mode": {
    "name": "ipython",
    "version": 3
   },
   "file_extension": ".py",
   "mimetype": "text/x-python",
   "name": "python",
   "nbconvert_exporter": "python",
   "pygments_lexer": "ipython3",
   "version": "3.7.3"
  }
 },
 "nbformat": 4,
 "nbformat_minor": 2
}
